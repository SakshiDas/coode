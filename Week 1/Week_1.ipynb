{
 "cells": [
  {
   "cell_type": "markdown",
   "metadata": {},
   "source": [
    "### Regression"
   ]
  },
  {
   "cell_type": "code",
   "execution_count": 1,
   "metadata": {},
   "outputs": [],
   "source": [
    "import numpy as np\n",
    "import pandas as pd\n",
    "from sklearn import linear_model"
   ]
  },
  {
   "cell_type": "code",
   "execution_count": 2,
   "metadata": {},
   "outputs": [
    {
     "name": "stdout",
     "output_type": "stream",
     "text": [
      "       Customer Name                                    Customer e-mail  \\\n",
      "0      Martina Avila  cubilia.Curae.Phasellus@quisaccumsanconvallis.edu   \n",
      "1      Harlan Barnes                                eu.dolor@diam.co.uk   \n",
      "2    Naomi Rodriquez  vulputate.mauris.sagittis@ametconsectetueradip...   \n",
      "3    Jade Cunningham                            malesuada@dignissim.com   \n",
      "4       Cedric Leach     felis.ullamcorper.viverra@egetmollislectus.net   \n",
      "..               ...                                                ...   \n",
      "495           Walter                                ligula@Cumsociis.ca   \n",
      "496            Vanna                 Cum.sociis.natoque@Sedmolestie.edu   \n",
      "497            Pearl                      penatibus.et@massanonante.com   \n",
      "498             Nell                  Quisque.varius@arcuVivamussit.net   \n",
      "499            Marla                          Camaron.marla@hotmail.com   \n",
      "\n",
      "          Country  Gender        Age  Annual Salary  Credit Card Debt  \\\n",
      "0        Bulgaria       0  41.851720    62812.09301      11609.380910   \n",
      "1          Belize       0  40.870623    66646.89292       9572.957136   \n",
      "2         Algeria       1  43.152897    53798.55112      11160.355060   \n",
      "3    Cook Islands       1  58.271369    79370.03798      14426.164850   \n",
      "4          Brazil       1  57.313749    59729.15130       5358.712177   \n",
      "..            ...     ...        ...            ...               ...   \n",
      "495         Nepal       0  41.462515    71942.40291       6995.902524   \n",
      "496      Zimbabwe       1  37.642000    56039.49793      12301.456790   \n",
      "497   Philippines       1  53.943497    68888.77805      10611.606860   \n",
      "498      Botswana       1  59.160509    49811.99062      14013.034510   \n",
      "499        marlal       1  46.731152    61370.67766       9391.341628   \n",
      "\n",
      "       Net Worth  Car Purchase Amount  \n",
      "0    238961.2505          35321.45877  \n",
      "1    530973.9078          45115.52566  \n",
      "2    638467.1773          42925.70921  \n",
      "3    548599.0524          67422.36313  \n",
      "4    560304.0671          55915.46248  \n",
      "..           ...                  ...  \n",
      "495  541670.1016          48901.44342  \n",
      "496  360419.0988          31491.41457  \n",
      "497  764531.3203          64147.28888  \n",
      "498  337826.6382          45442.15353  \n",
      "499  462946.4924          45107.22566  \n",
      "\n",
      "[500 rows x 9 columns]\n"
     ]
    }
   ],
   "source": [
    "df = pd.read_csv('Car_Purchasing_Data.csv',  encoding='latin-1')\n",
    "print(df)"
   ]
  },
  {
   "cell_type": "code",
   "execution_count": 3,
   "metadata": {},
   "outputs": [],
   "source": [
    "from sklearn.model_selection import train_test_split\n",
    "x_train, x_test, y_train, y_test = train_test_split(df.iloc[:,4:-1],df.iloc[:, 8], train_size = 0.8)"
   ]
  },
  {
   "cell_type": "code",
   "execution_count": 4,
   "metadata": {},
   "outputs": [
    {
     "name": "stdout",
     "output_type": "stream",
     "text": [
      "           Age  Annual Salary  Credit Card Debt    Net Worth\n",
      "487  43.365470    50051.14039        893.235341  347177.8367\n",
      "273  49.897690    53587.12801       8501.497280  811594.0392\n",
      "122  52.864268    65809.10782       4820.839445  692401.4668\n",
      "165  38.708048    69142.08412       8707.511532  399124.4489\n",
      "194  70.000000    52323.24480      12438.856480  346555.1716\n",
      "..         ...            ...               ...          ...\n",
      "116  43.031069    69175.19403       6039.594519  325701.4083\n",
      "77   56.519529    53450.90036       8740.723093  309113.0627\n",
      "264  45.219379    72939.83195       7787.204492  589669.6573\n",
      "7    50.193016    51752.23445      10985.696560  629312.4041\n",
      "74   56.041515    67015.19372      13000.413690  355157.6417\n",
      "\n",
      "[400 rows x 4 columns]\n"
     ]
    }
   ],
   "source": [
    "print(x_train)"
   ]
  },
  {
   "cell_type": "code",
   "execution_count": 5,
   "metadata": {},
   "outputs": [
    {
     "name": "stdout",
     "output_type": "stream",
     "text": [
      "           Age  Annual Salary  Credit Card Debt    Net Worth\n",
      "237  50.717326    60404.38394       4198.839128  513974.6812\n",
      "458  47.546905    45368.15561      12203.487780  577058.1773\n",
      "371  39.711310    60380.22868       2799.719601  508962.4874\n",
      "270  35.375156    33422.99683       8570.611562  211168.6293\n",
      "366  43.129549    54236.62092       7275.314728  432447.5324\n",
      "..         ...            ...               ...          ...\n",
      "262  41.224935    73426.08521      14822.796450  336867.7147\n",
      "288  40.601835    73498.30715       3066.939924  491904.1899\n",
      "68   57.347216    48716.67271      10886.917110  662382.6623\n",
      "222  47.450949    61063.35631      12066.265710  509543.0859\n",
      "79   45.225651    52697.15192        861.816653  540805.4940\n",
      "\n",
      "[100 rows x 4 columns]\n"
     ]
    }
   ],
   "source": [
    "print(x_test)"
   ]
  },
  {
   "cell_type": "code",
   "execution_count": 6,
   "metadata": {},
   "outputs": [
    {
     "name": "stdout",
     "output_type": "stream",
     "text": [
      "487    32553.53423\n",
      "273    53502.97742\n",
      "122    59416.18101\n",
      "165    40879.19107\n",
      "194    56229.41270\n",
      "          ...     \n",
      "116    42408.02625\n",
      "77     44434.71917\n",
      "264    54013.47595\n",
      "7      47434.98265\n",
      "74     52991.52667\n",
      "Name: Car Purchase Amount, Length: 400, dtype: float64\n"
     ]
    }
   ],
   "source": [
    "print(y_train)"
   ]
  },
  {
   "cell_type": "code",
   "execution_count": 7,
   "metadata": {},
   "outputs": [
    {
     "data": {
      "text/plain": [
       "LinearRegression()"
      ]
     },
     "execution_count": 7,
     "metadata": {},
     "output_type": "execute_result"
    }
   ],
   "source": [
    "reg = linear_model.LinearRegression()\n",
    "reg.fit(x_train, y_train)"
   ]
  },
  {
   "cell_type": "code",
   "execution_count": 8,
   "metadata": {},
   "outputs": [
    {
     "name": "stdout",
     "output_type": "stream",
     "text": [
      "[ 8.41563551e+02  5.62332934e-01 -2.79435522e-05  2.89834179e-02]\n",
      "-42147.0155868303\n"
     ]
    }
   ],
   "source": [
    "print(reg.coef_)\n",
    "print(reg.intercept_)"
   ]
  },
  {
   "cell_type": "code",
   "execution_count": 9,
   "metadata": {},
   "outputs": [
    {
     "data": {
      "text/plain": [
       "array([49398.83775782, 40103.51211739, 39977.76068965, 12538.42768624,\n",
       "       37181.88284011, 44431.6386423 , 57124.92300329, 53658.02503302,\n",
       "       51940.64976089, 55544.82010138, 52311.73777257, 44437.19211359,\n",
       "       37714.40218756, 57460.20664803, 32701.75234824, 58668.55322223,\n",
       "       30241.82020759, 39911.27243046, 51610.61433681, 39550.37713096,\n",
       "       46013.15033835, 67424.30378796, 42776.57643026, 58351.90980473,\n",
       "       41319.81857484, 52786.01249224, 39331.29873549, 66363.00012729,\n",
       "       31146.67678922, 47443.3103578 , 31838.33212711, 52056.90976461,\n",
       "       24222.01929168, 51732.01221151, 41426.0245327 , 35440.74408779,\n",
       "       58839.65935329,  9001.63982066, 42481.37926669, 38505.36963891,\n",
       "       44500.29397062, 41987.08655879, 39003.03673694, 33259.97496286,\n",
       "       48100.36283728, 35473.38712705, 27301.13610553, 42289.75070003,\n",
       "       39607.80900096, 42998.39420031, 42909.6245511 , 30963.62871391,\n",
       "       55168.0887917 , 34642.99000517, 47761.80127632, 41490.65027351,\n",
       "       32478.49589699, 33130.35814489, 22628.64579897, 42383.73429446,\n",
       "       28030.8318719 , 58045.04752584, 63252.92894906, 45207.61316541,\n",
       "       46084.51239714, 32291.94290699, 35727.93013836, 55173.61105146,\n",
       "       52571.30400005, 34137.80271576, 41565.75465875, 37869.66106896,\n",
       "       42747.83924414, 30734.91712878, 19552.54322331, 48620.2042011 ,\n",
       "       37949.93569112, 37885.37168327, 44634.40719449, 28465.05406432,\n",
       "       38242.68696994, 55593.3702109 , 24133.59945196, 29757.61981269,\n",
       "       54605.79967494, 30826.12737894, 30760.83960194, 46401.3359785 ,\n",
       "       46400.95092883, 45805.5873209 , 46133.95746215, 46848.02678771,\n",
       "       51552.2465018 , 60528.35459139, 36518.18276114, 43599.45679846,\n",
       "       47609.50646099, 52707.109558  , 46891.87303256, 41220.95584203])"
      ]
     },
     "execution_count": 9,
     "metadata": {},
     "output_type": "execute_result"
    }
   ],
   "source": [
    "reg.predict(x_test)"
   ]
  },
  {
   "cell_type": "code",
   "execution_count": 10,
   "metadata": {},
   "outputs": [
    {
     "data": {
      "text/plain": [
       "0.9999999828318391"
      ]
     },
     "execution_count": 10,
     "metadata": {},
     "output_type": "execute_result"
    }
   ],
   "source": [
    "reg.score(x_test,y_test)"
   ]
  },
  {
   "cell_type": "markdown",
   "metadata": {},
   "source": [
    "### ANN"
   ]
  },
  {
   "cell_type": "code",
   "execution_count": 2,
   "metadata": {},
   "outputs": [
    {
     "ename": "ImportError",
     "evalue": "Keras requires TensorFlow 2.2 or higher. Install TensorFlow via `pip install tensorflow`",
     "output_type": "error",
     "traceback": [
      "\u001b[1;31m---------------------------------------------------------------------------\u001b[0m",
      "\u001b[1;31mModuleNotFoundError\u001b[0m                       Traceback (most recent call last)",
      "\u001b[1;32m~\\anaconda3\\lib\\site-packages\\keras\\__init__.py\u001b[0m in \u001b[0;36m<module>\u001b[1;34m\u001b[0m\n\u001b[0;32m      2\u001b[0m \u001b[1;32mtry\u001b[0m\u001b[1;33m:\u001b[0m\u001b[1;33m\u001b[0m\u001b[1;33m\u001b[0m\u001b[0m\n\u001b[1;32m----> 3\u001b[1;33m     \u001b[1;32mfrom\u001b[0m \u001b[0mtensorflow\u001b[0m\u001b[1;33m.\u001b[0m\u001b[0mkeras\u001b[0m\u001b[1;33m.\u001b[0m\u001b[0mlayers\u001b[0m\u001b[1;33m.\u001b[0m\u001b[0mexperimental\u001b[0m\u001b[1;33m.\u001b[0m\u001b[0mpreprocessing\u001b[0m \u001b[1;32mimport\u001b[0m \u001b[0mRandomRotation\u001b[0m\u001b[1;33m\u001b[0m\u001b[1;33m\u001b[0m\u001b[0m\n\u001b[0m\u001b[0;32m      4\u001b[0m \u001b[1;32mexcept\u001b[0m \u001b[0mImportError\u001b[0m\u001b[1;33m:\u001b[0m\u001b[1;33m\u001b[0m\u001b[1;33m\u001b[0m\u001b[0m\n",
      "\u001b[1;31mModuleNotFoundError\u001b[0m: No module named 'tensorflow'",
      "\nDuring handling of the above exception, another exception occurred:\n",
      "\u001b[1;31mImportError\u001b[0m                               Traceback (most recent call last)",
      "\u001b[1;32m<ipython-input-2-88d96843a926>\u001b[0m in \u001b[0;36m<module>\u001b[1;34m\u001b[0m\n\u001b[1;32m----> 1\u001b[1;33m \u001b[1;32mimport\u001b[0m \u001b[0mkeras\u001b[0m\u001b[1;33m\u001b[0m\u001b[1;33m\u001b[0m\u001b[0m\n\u001b[0m",
      "\u001b[1;32m~\\anaconda3\\lib\\site-packages\\keras\\__init__.py\u001b[0m in \u001b[0;36m<module>\u001b[1;34m\u001b[0m\n\u001b[0;32m      3\u001b[0m     \u001b[1;32mfrom\u001b[0m \u001b[0mtensorflow\u001b[0m\u001b[1;33m.\u001b[0m\u001b[0mkeras\u001b[0m\u001b[1;33m.\u001b[0m\u001b[0mlayers\u001b[0m\u001b[1;33m.\u001b[0m\u001b[0mexperimental\u001b[0m\u001b[1;33m.\u001b[0m\u001b[0mpreprocessing\u001b[0m \u001b[1;32mimport\u001b[0m \u001b[0mRandomRotation\u001b[0m\u001b[1;33m\u001b[0m\u001b[1;33m\u001b[0m\u001b[0m\n\u001b[0;32m      4\u001b[0m \u001b[1;32mexcept\u001b[0m \u001b[0mImportError\u001b[0m\u001b[1;33m:\u001b[0m\u001b[1;33m\u001b[0m\u001b[1;33m\u001b[0m\u001b[0m\n\u001b[1;32m----> 5\u001b[1;33m     raise ImportError(\n\u001b[0m\u001b[0;32m      6\u001b[0m         \u001b[1;34m'Keras requires TensorFlow 2.2 or higher. '\u001b[0m\u001b[1;33m\u001b[0m\u001b[1;33m\u001b[0m\u001b[0m\n\u001b[0;32m      7\u001b[0m         'Install TensorFlow via `pip install tensorflow`')\n",
      "\u001b[1;31mImportError\u001b[0m: Keras requires TensorFlow 2.2 or higher. Install TensorFlow via `pip install tensorflow`"
     ]
    }
   ],
   "source": [
    "import keras"
   ]
  },
  {
   "cell_type": "code",
   "execution_count": null,
   "metadata": {},
   "outputs": [],
   "source": []
  },
  {
   "cell_type": "code",
   "execution_count": null,
   "metadata": {},
   "outputs": [],
   "source": []
  },
  {
   "cell_type": "code",
   "execution_count": null,
   "metadata": {},
   "outputs": [],
   "source": []
  }
 ],
 "metadata": {
  "kernelspec": {
   "display_name": "Python 3",
   "language": "python",
   "name": "python3"
  },
  "language_info": {
   "codemirror_mode": {
    "name": "ipython",
    "version": 3
   },
   "file_extension": ".py",
   "mimetype": "text/x-python",
   "name": "python",
   "nbconvert_exporter": "python",
   "pygments_lexer": "ipython3",
   "version": "3.8.3"
  }
 },
 "nbformat": 4,
 "nbformat_minor": 4
}
